{
  "nbformat": 4,
  "nbformat_minor": 0,
  "metadata": {
    "colab": {
      "name": "proyectos python.ipynb",
      "provenance": []
    },
    "kernelspec": {
      "name": "python3",
      "display_name": "Python 3"
    },
    "language_info": {
      "name": "python"
    }
  },
  "cells": [
    {
      "cell_type": "markdown",
      "source": [
        "Madlib\n"
      ],
      "metadata": {
        "id": "ly2f3Pq5XT9q"
      }
    },
    {
      "cell_type": "code",
      "execution_count": null,
      "metadata": {
        "colab": {
          "base_uri": "https://localhost:8080/"
        },
        "id": "ZTo81bg2VT0W",
        "outputId": "39624af6-d395-4726-c824-543d2a3b29ba"
      },
      "outputs": [
        {
          "output_type": "stream",
          "name": "stdout",
          "text": [
            "Adjetive: das\n",
            "Famous person: asd\n",
            "Verb: das\n",
            "Verb: asd\n",
            "Aqui va un adjetivo das Correcto! Ahora un verbo: asd excelente! probemos otro: das eres un genio! squien es tu persona favorita? asd   increible!  asd es tambien mi persona favorita!\n"
          ]
        }
      ],
      "source": [
        "adj = input(\"Adjetive: \")\n",
        "famous_person = input(\"Famous person: \")\n",
        "verb2 = input(\"Verb: \")\n",
        "verb1 = input(\"Verb: \")\n",
        "\n",
        "madlib = f\"Aqui va un adjetivo {adj} Correcto! Ahora un verbo: {verb1} excelente!\\\n",
        " probemos otro: {verb2} eres un genio! squien es tu persona favorita? {famous_person}  \\\n",
        " asdincreible!  {famous_person} es tambien mi persona favorita!\"\n",
        "\n",
        "\n",
        "print(madlib)"
      ]
    },
    {
      "cell_type": "markdown",
      "source": [
        "Secret Number:"
      ],
      "metadata": {
        "id": "I0OmoW5SXTIR"
      }
    },
    {
      "cell_type": "code",
      "source": [
        "import random\n",
        "def guess(x):\n",
        "    random_number = random.randint(1,x)\n",
        "    guess = 0\n",
        "    while guess != random_number:\n",
        "        guess = int(input(f'Guess a number between 1 and {x} '))\n",
        "        if guess < random_number:\n",
        "            print('Sorry, guess again. Too low.')\n",
        "        elif guess > random_number:\n",
        "            print('Sorry, guess again. Too high.')\n",
        "\n",
        "print('Yay, congrats. You have guessed the number {random_number} correctly')\n",
        "\n",
        "\n",
        "guess(10)"
      ],
      "metadata": {
        "colab": {
          "base_uri": "https://localhost:8080/"
        },
        "id": "vcGCZN85Xrdw",
        "outputId": "b12cd148-c22b-46a5-8040-18710a9f26dd"
      },
      "execution_count": null,
      "outputs": [
        {
          "name": "stdout",
          "output_type": "stream",
          "text": [
            "Yay, congrats. You have guessed the number {random_number} correctly\n",
            "Guess a number between 1 and 10 5\n",
            "Sorry, guess again. Too low.\n",
            "Guess a number between 1 and 10 7\n",
            "Sorry, guess again. Too low.\n",
            "Guess a number between 1 and 10 8\n",
            "Sorry, guess again. Too low.\n",
            "Guess a number between 1 and 10 9\n"
          ]
        }
      ]
    }
  ]
}